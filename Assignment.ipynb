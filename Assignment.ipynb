{
 "cells": [
  {
   "cell_type": "raw",
   "id": "8bc66ba7-8e4d-4f00-b196-5c03473830bd",
   "metadata": {},
   "source": [
    "Q1. Explain with an example each when to use a for loop and a while loop?\n",
    "Ans- Do while-\n",
    "      Do while is used when the loop body is used atleast once.\n",
    "      It is a entry controlled loop.\n",
    "      It checks the condition first and executes.\n",
    "      eg,\n",
    "      do{\n",
    "    // statement or \n",
    "    // set of statements\n",
    "    }\n",
    "    while(condition)\n",
    "      \n",
    "      while loop-\n",
    "      While loop is used upto a completion of a certain conditions.\n",
    "      eg,\n",
    "      n=int(input(\"enter the numbers\"))\n",
    "      counter=0:\n",
    "      a=0,b=1;\n",
    "      while(counter<n):\n",
    "              print(a)\n",
    "              a=b\n",
    "              b=c\n",
    "              counter=counter+1\n",
    "      print(counter)\n",
    "      "
   ]
  },
  {
   "cell_type": "raw",
   "id": "3adaf7eb-a29b-4557-82ea-4bfc8a953256",
   "metadata": {},
   "source": [
    "Q2. Write a python program to print the sum and product of the first 10 natural numbers using for\n",
    "and while loop?\n",
    "Ans-\n"
   ]
  },
  {
   "cell_type": "code",
   "execution_count": 1,
   "id": "705e0055-a7b8-495f-9a65-e3421507bb55",
   "metadata": {},
   "outputs": [
    {
     "name": "stdout",
     "output_type": "stream",
     "text": [
      "product is: 3628800\n"
     ]
    }
   ],
   "source": [
    "l=1\n",
    "for i in range(1,11,1):\n",
    "    l=l*i\n",
    "print(\"product is:\",l)\n"
   ]
  },
  {
   "cell_type": "code",
   "execution_count": 3,
   "id": "33d3f330-5dd1-4db2-af77-a6c51da449f3",
   "metadata": {},
   "outputs": [
    {
     "name": "stdout",
     "output_type": "stream",
     "text": [
      "55\n"
     ]
    }
   ],
   "source": [
    "sum=0\n",
    "counter=1\n",
    "while(counter<=10):\n",
    "    sum=sum+counter\n",
    "    counter=counter+1\n",
    "print(sum)\n"
   ]
  },
  {
   "cell_type": "code",
   "execution_count": 6,
   "id": "b96766af-66ac-45e5-b2fd-305968b73fda",
   "metadata": {},
   "outputs": [
    {
     "name": "stdout",
     "output_type": "stream",
     "text": [
      "Sum is 55\n"
     ]
    }
   ],
   "source": [
    "sum=0\n",
    "for i in range(11):\n",
    "    sum=sum+i\n",
    "print(\"Sum is\",sum)\n",
    "\n"
   ]
  },
  {
   "cell_type": "code",
   "execution_count": 7,
   "id": "bb4d924b-804e-4e99-83d1-e5d5999b7218",
   "metadata": {},
   "outputs": [
    {
     "name": "stdout",
     "output_type": "stream",
     "text": [
      "3628800\n"
     ]
    }
   ],
   "source": [
    "counter=1\n",
    "product=1\n",
    "while(counter<=10):\n",
    "    product=product*counter\n",
    "    counter=counter+1\n",
    "print(product)\n",
    "\n"
   ]
  },
  {
   "cell_type": "raw",
   "id": "e5cf189b-df2d-4645-9cc2-ff62da883094",
   "metadata": {},
   "source": [
    "Q-3>Create a python program to compute the electricity bill for a household.\n",
    "The per-unit charges in rupees are as follows: For the first 100 units, the user will be charged Rs. 4.5 per\n",
    "unit, for the next 100 units, the user will be charged Rs. 6 per unit, and for the next 100 units, the user will\n",
    "be charged Rs. 10 per unit, After 300 units and above the user will be charged Rs. 20 per unit.\n",
    "You are required to take the units of electricity consumed in a month from the user as input.\n",
    "Your program must pass this test case: when the unit of electricity consumed by the user in a month is\n",
    "310, the total electricity bill should be 2250."
   ]
  },
  {
   "cell_type": "code",
   "execution_count": 10,
   "id": "3bd100eb-b056-4d33-9274-abae3c286fcd",
   "metadata": {},
   "outputs": [
    {
     "name": "stdin",
     "output_type": "stream",
     "text": [
      "Enter the units of electricity conumed in a month 310\n"
     ]
    },
    {
     "name": "stdout",
     "output_type": "stream",
     "text": [
      "bill is 2250.0\n"
     ]
    }
   ],
   "source": [
    "n=int(input(\"Enter the units of electricity conumed in a month\"))\n",
    "bill=0\n",
    "if (n<=100):\n",
    "    bill=4.5*n\n",
    "elif(n>100 and n<=200):\n",
    "    bill=100*4.5+(n-100)*6\n",
    "elif(n>200 and n<=300):\n",
    "    bill=4.5*100+6*100+(n-200)*10\n",
    "elif(n>300):\n",
    "    bill=4.5*100+6*100+100*10+(n-300)*20\n",
    "print(\"bill is\",bill)\n",
    "\n"
   ]
  },
  {
   "cell_type": "raw",
   "id": "a4f6fd1b-4edf-435a-ba32-c2989e72d406",
   "metadata": {},
   "source": [
    "Q4. Create a list of numbers from 1 to 100. Use for loop and while loop to calculate the cube of each\n",
    "number and if the cube of that number is divisible by 4 or 5 then append that number in a list and print\n",
    "that list.\n"
   ]
  },
  {
   "cell_type": "code",
   "execution_count": 9,
   "id": "86759759-6bac-4709-b735-963ca9dfa2f9",
   "metadata": {},
   "outputs": [
    {
     "name": "stdout",
     "output_type": "stream",
     "text": [
      "[1000, 8000, 27000, 64000, 125000, 216000, 343000, 512000, 729000, 1000000]\n"
     ]
    }
   ],
   "source": [
    "l=[]\n",
    "for i in range(1,101):\n",
    "    cube=i*i*i\n",
    "    if cube%4==0 and cube%5==0:\n",
    "        l.append(cube)\n",
    "print(l)\n",
    "\n"
   ]
  },
  {
   "cell_type": "code",
   "execution_count": 8,
   "id": "a2c2e095-d925-4899-8347-33ba3d12675a",
   "metadata": {},
   "outputs": [
    {
     "name": "stdout",
     "output_type": "stream",
     "text": [
      "[1000, 8000, 27000, 64000, 125000, 216000, 343000, 512000, 729000, 1000000]\n"
     ]
    }
   ],
   "source": [
    "l=[]\n",
    "counter=1\n",
    "while(counter<=100):\n",
    "    cube=counter**3\n",
    "    if cube%4==0 and cube%5==0:\n",
    "        l.append(cube)\n",
    "    counter=counter+1\n",
    "print(l)\n"
   ]
  },
  {
   "cell_type": "raw",
   "id": "1ba4ee15-923d-4d2c-a27e-fef41f4d9997",
   "metadata": {},
   "source": [
    "Q-5>Write a program to filter count vowels in the below-given string.\n",
    "string = \"I want to become a data scientist\""
   ]
  },
  {
   "cell_type": "code",
   "execution_count": 14,
   "id": "69b14c34-e52d-40c1-af12-84d994588bdf",
   "metadata": {},
   "outputs": [
    {
     "name": "stdout",
     "output_type": "stream",
     "text": [
      "11\n"
     ]
    }
   ],
   "source": [
    "s=\"I want to become a data scientist\"\n",
    "b=\"aeiouAeiou\"\n",
    "count=0\n",
    "for i in s:\n",
    "    if i in b:\n",
    "        count=count+1\n",
    "print(count)\n",
    "\n",
    "\n",
    "\n",
    "\n",
    "    "
   ]
  },
  {
   "cell_type": "code",
   "execution_count": null,
   "id": "30705f70-13ec-4d33-ae0d-4e8605827ebf",
   "metadata": {},
   "outputs": [],
   "source": []
  }
 ],
 "metadata": {
  "kernelspec": {
   "display_name": "Python 3 (ipykernel)",
   "language": "python",
   "name": "python3"
  },
  "language_info": {
   "codemirror_mode": {
    "name": "ipython",
    "version": 3
   },
   "file_extension": ".py",
   "mimetype": "text/x-python",
   "name": "python",
   "nbconvert_exporter": "python",
   "pygments_lexer": "ipython3",
   "version": "3.10.8"
  }
 },
 "nbformat": 4,
 "nbformat_minor": 5
}
